{
  "nbformat": 4,
  "nbformat_minor": 0,
  "metadata": {
    "colab": {
      "name": "W2-MNIST_handwriting digits 0 through 9.ipynb",
      "provenance": [],
      "collapsed_sections": [],
      "authorship_tag": "ABX9TyP39yNH4Swh9fvA14Zr/bcG",
      "include_colab_link": true
    },
    "kernelspec": {
      "name": "python3",
      "display_name": "Python 3"
    },
    "language_info": {
      "name": "python"
    }
  },
  "cells": [
    {
      "cell_type": "markdown",
      "metadata": {
        "id": "view-in-github",
        "colab_type": "text"
      },
      "source": [
        "<a href=\"https://colab.research.google.com/github/aayushibeniwal/Introduction-to-TensorFlow-for-Artificial-Intelligence-Machine-Learning-and-Deep-Learning/blob/main/W2_MNIST_handwriting_digits_0_through_9.ipynb\" target=\"_parent\"><img src=\"https://colab.research.google.com/assets/colab-badge.svg\" alt=\"Open In Colab\"/></a>"
      ]
    },
    {
      "cell_type": "markdown",
      "source": [
        "Writing an MNIST classifier that trains to 99% accuracy or above, and does it without a fixed number of epochs stopping the training once reached a good level of accuracy.\n",
        "\n",
        "Some notes:\n",
        "\n",
        "*   It should succeed in less than 10 epochs, so it is okay to change epochs= to 10, but nothing larger.\n",
        "\n",
        "*   When it reaches 99% or greater it should print out the string \"Reached \n",
        "*   Any additional variables, must be named as the ones used in the class.\n",
        "\n",
        "\n",
        "\n",
        "\n",
        "\n"
      ],
      "metadata": {
        "id": "GuLNbi_cvgM1"
      }
    },
    {
      "cell_type": "code",
      "execution_count": 1,
      "metadata": {
        "id": "4wM4zuXBkQey"
      },
      "outputs": [],
      "source": [
        "import tensorflow as tf"
      ]
    },
    {
      "cell_type": "code",
      "source": [
        "def train_mnist():\n",
        "\n",
        "    class myCallback(tf.keras.callbacks.Callback):\n",
        "        def on_epoch_end(self, epoch, logs={}):\n",
        "            if (logs.get('accuracy') > 0.99):\n",
        "                print(\"\\nReached 99% accuracy so cancelling training!\")\n",
        "                self.model.stop_training = True\n",
        "    callbacks = myCallback()\n",
        "\n",
        "    mnist = tf.keras.datasets.mnist\n",
        "\n",
        "    (x_train, y_train),(x_test, y_test) = mnist.load_data()\n",
        "\n",
        "    x_train = x_train / 255.0\n",
        "\n",
        "    model = tf.keras.models.Sequential([\n",
        "\n",
        "    tf.keras.layers.Flatten(),\n",
        "        tf.keras.layers.Dense(512, activation=tf.nn.relu),\n",
        "        tf.keras.layers.Dense(10, activation=tf.nn.softmax),\n",
        "\n",
        "    ])\n",
        "\n",
        "    model.compile(optimizer='adam',\n",
        "                  loss='sparse_categorical_crossentropy',\n",
        "                  metrics=['accuracy'])\n",
        "    \n",
        "    # model fitting\n",
        "    history = model.fit(\n",
        "        x_train, y_train, epochs=10,  callbacks=[callbacks]\n",
        "              \n",
        "    )\n",
        "    # model fitting\n",
        "    return history.epoch, history.history['accuracy'][-1]\n",
        "\n"
      ],
      "metadata": {
        "id": "R8_Lk38Jw2Ry"
      },
      "execution_count": 4,
      "outputs": []
    },
    {
      "cell_type": "code",
      "source": [
        "train_mnist()"
      ],
      "metadata": {
        "colab": {
          "base_uri": "https://localhost:8080/"
        },
        "id": "X4GfzrzjxXJb",
        "outputId": "714792bf-dd80-4f89-8ccf-51d80f3d9a57"
      },
      "execution_count": 5,
      "outputs": [
        {
          "output_type": "stream",
          "name": "stdout",
          "text": [
            "Epoch 1/10\n",
            "1875/1875 [==============================] - 10s 5ms/step - loss: 0.1993 - accuracy: 0.9416\n",
            "Epoch 2/10\n",
            "1875/1875 [==============================] - 8s 4ms/step - loss: 0.0808 - accuracy: 0.9752\n",
            "Epoch 3/10\n",
            "1875/1875 [==============================] - 8s 4ms/step - loss: 0.0510 - accuracy: 0.9840\n",
            "Epoch 4/10\n",
            "1875/1875 [==============================] - 8s 4ms/step - loss: 0.0372 - accuracy: 0.9879\n",
            "Epoch 5/10\n",
            "1873/1875 [============================>.] - ETA: 0s - loss: 0.0270 - accuracy: 0.9911\n",
            "Reached 99% accuracy so cancelling training!\n",
            "1875/1875 [==============================] - 8s 4ms/step - loss: 0.0270 - accuracy: 0.9911\n"
          ]
        },
        {
          "output_type": "execute_result",
          "data": {
            "text/plain": [
              "([0, 1, 2, 3, 4], 0.991100013256073)"
            ]
          },
          "metadata": {},
          "execution_count": 5
        }
      ]
    }
  ]
}