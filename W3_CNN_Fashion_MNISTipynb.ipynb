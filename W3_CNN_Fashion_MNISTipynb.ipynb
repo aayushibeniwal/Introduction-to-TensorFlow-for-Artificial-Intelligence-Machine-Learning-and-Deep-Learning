{
  "nbformat": 4,
  "nbformat_minor": 0,
  "metadata": {
    "colab": {
      "name": "W3_CNN_Fashion_MNISTipynb",
      "provenance": [],
      "authorship_tag": "ABX9TyMySyxkkHh1aE5DWr9IBT+c",
      "include_colab_link": true
    },
    "kernelspec": {
      "name": "python3",
      "display_name": "Python 3"
    },
    "language_info": {
      "name": "python"
    }
  },
  "cells": [
    {
      "cell_type": "markdown",
      "metadata": {
        "id": "view-in-github",
        "colab_type": "text"
      },
      "source": [
        "<a href=\"https://colab.research.google.com/github/aayushibeniwal/Introduction-to-TensorFlow-for-Artificial-Intelligence-Machine-Learning-and-Deep-Learning/blob/main/W3_CNN_Fashion_MNISTipynb.ipynb\" target=\"_parent\"><img src=\"https://colab.research.google.com/assets/colab-badge.svg\" alt=\"Open In Colab\"/></a>"
      ]
    },
    {
      "cell_type": "markdown",
      "source": [
        "Improve Fashion MNIST using Convolutions. Improving MNIST to 99.8% accuracy or more using only a single convolutional layer and a single MaxPooling 2D. \n"
      ],
      "metadata": {
        "id": "5BDiMO1kound"
      }
    },
    {
      "cell_type": "code",
      "execution_count": 3,
      "metadata": {
        "id": "OzD2FEHHoVTd"
      },
      "outputs": [],
      "source": [
        "import tensorflow as tf\n",
        "\n",
        "def train_mnist_conv():\n",
        "\n",
        "    class myCallback(tf.keras.callbacks.Callback):\n",
        "        def on_epoch_end(self, epoch, logs={}):\n",
        "            if(logs.get('accuracy')>0.998):\n",
        "                print(\"\\nReached 99.8% accuracy so cancelling training!\")\n",
        "                self.model.stop_training = True\n",
        "\n",
        "    mnist = tf.keras.datasets.mnist\n",
        "    (training_images, training_labels), (test_images, test_labels) = mnist.load_data()\n",
        "\n",
        "    callbacks = myCallback()\n",
        "    \n",
        "    training_images=training_images.reshape(60000, 28, 28, 1)\n",
        "    training_images=training_images / 255.0\n",
        "    test_images = test_images.reshape(10000, 28, 28, 1)\n",
        "    test_images=test_images/255.0\n",
        "\n",
        "    model = tf.keras.models.Sequential([\n",
        "        \n",
        "            tf.keras.layers.Conv2D(64, (3,3), activation='relu', input_shape=(28, 28, 1)),\n",
        "            tf.keras.layers.MaxPooling2D(2, 2),\n",
        "            tf.keras.layers.Conv2D(64, (3,3), activation='relu'),\n",
        "            tf.keras.layers.MaxPooling2D(2,2),\n",
        "            tf.keras.layers.Flatten(),\n",
        "            tf.keras.layers.Dense(128, activation='relu'),\n",
        "            tf.keras.layers.Dense(10, activation='softmax')\n",
        " \n",
        "    ])\n",
        "\n",
        "    model.compile(optimizer='adam', loss='sparse_categorical_crossentropy', metrics=['accuracy'])\n",
        "    # model fitting\n",
        "    history = model.fit(\n",
        "     \n",
        "            training_images, training_labels, epochs=20, callbacks=[callbacks]\n",
        "      \n",
        "   )\n",
        "    # model fitting\n",
        "    return history.epoch, history.history['accuracy'][-1]"
      ]
    },
    {
      "cell_type": "code",
      "source": [
        "_, _ = train_mnist_conv()"
      ],
      "metadata": {
        "colab": {
          "base_uri": "https://localhost:8080/"
        },
        "id": "OAiSz4y1pO6e",
        "outputId": "1ae6972e-7588-4e63-8eef-62bcb935cf64"
      },
      "execution_count": 4,
      "outputs": [
        {
          "output_type": "stream",
          "name": "stdout",
          "text": [
            "Epoch 1/20\n",
            "1875/1875 [==============================] - 83s 44ms/step - loss: 0.1228 - accuracy: 0.9622\n",
            "Epoch 2/20\n",
            "1875/1875 [==============================] - 81s 43ms/step - loss: 0.0416 - accuracy: 0.9872\n",
            "Epoch 3/20\n",
            "1875/1875 [==============================] - 80s 43ms/step - loss: 0.0279 - accuracy: 0.9911\n",
            "Epoch 4/20\n",
            "1875/1875 [==============================] - 81s 43ms/step - loss: 0.0215 - accuracy: 0.9931\n",
            "Epoch 5/20\n",
            "1875/1875 [==============================] - 82s 44ms/step - loss: 0.0140 - accuracy: 0.9955\n",
            "Epoch 6/20\n",
            "1875/1875 [==============================] - 81s 43ms/step - loss: 0.0119 - accuracy: 0.9963\n",
            "Epoch 7/20\n",
            "1875/1875 [==============================] - 80s 43ms/step - loss: 0.0098 - accuracy: 0.9968\n",
            "Epoch 8/20\n",
            "1875/1875 [==============================] - 81s 43ms/step - loss: 0.0089 - accuracy: 0.9970\n",
            "Epoch 9/20\n",
            "1875/1875 [==============================] - ETA: 0s - loss: 0.0060 - accuracy: 0.9981\n",
            "Reached 99.8% accuracy so cancelling training!\n",
            "1875/1875 [==============================] - 80s 43ms/step - loss: 0.0060 - accuracy: 0.9981\n"
          ]
        }
      ]
    }
  ]
}